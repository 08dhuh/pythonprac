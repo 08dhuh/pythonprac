{
 "cells": [
  {
   "attachments": {},
   "cell_type": "markdown",
   "id": "9ee836ac",
   "metadata": {},
   "source": [
    "<h3>Creating the Hash Map Class</h3>\n",
    "<p>Open Addressing</p>\n",
    "There are three possible cases when trying to retrieve the value of the given key from the hash map.\n",
    "<ul>\n",
    "<li>It is an empty cell</li>\n",
    "<li>It is the correct cell</li>\n",
    "<li>It is the wrong cell</li>\n",
    "</ul>"
   ]
  },
  {
   "cell_type": "code",
   "execution_count": 7,
   "metadata": {},
   "outputs": [],
   "source": [
    "class HashMap:\n",
    "    def __init__(self, array_size):\n",
    "        self.array_size = array_size\n",
    "        self.array = [None for _ in range(array_size)]\\\n",
    "    \n",
    "    def hash(self, key, count_collisions=0):\n",
    "        key_bytes = key.encode()\n",
    "        hash_code = sum(key_bytes)\n",
    "        return hash_code + count_collisions\n",
    "    \n",
    "    def compressor(self, hash_code):\n",
    "        return hash_code % self.array_size\n",
    "    \n",
    "    def assign(self, key, value):\n",
    "        number_collisions = 1\n",
    "        array_index = self.compressor(self.hash(key))\n",
    "        current_array_value = self.array[array_index]  \n",
    "\n",
    "        if not current_array_value:\n",
    "            self.array[array_index] = [key, value]\n",
    "        while current_array_value[0] != key:\n",
    "            new_hash_code = self.hash(key, number_collisions)\n",
    "            new_array_index = self.compressor(new_hash_code)\n",
    "            if not self.array[new_array_index] or self.array[new_array_index][0] == key:\n",
    "                self.array[new_array_index] = [key, value]\n",
    "                return\n",
    "            number_collisions += 1\n",
    "\n",
    "\n",
    "    def retrieve(self, key):\n",
    "        array_index = self.compressor(self.hash(key))\n",
    "        possible_return_value= self.array[array_index]\n",
    "        if not possible_return_value: return None\n",
    "        retrieval_collisions = 1\n",
    "        while possible_return_value[0] != key:\n",
    "            new_hash_code = self.hash(key, retrieval_collisions)\n",
    "            retrieving_array_index = self.compressor(new_hash_code)\n",
    "            possible_return_value = self.array[retrieving_array_index]\n",
    "            if not possible_return_value: return None\n",
    "            if possible_return_value[0] == key: return possible_return_value[1]\n",
    "            retrieval_collisions += 1"
   ]
  },
  {
   "attachments": {},
   "cell_type": "markdown",
   "id": "77f00b88",
   "metadata": {},
   "source": [
    "<h3>Project: Blossom</h3>"
   ]
  },
  {
   "cell_type": "code",
   "execution_count": 2,
   "id": "eb832236",
   "metadata": {},
   "outputs": [],
   "source": [
    "flower_definitions = [['begonia', 'cautiousness'], ['chrysanthemum', 'cheerfulness'], ['carnation', 'memories'], ['daisy', 'innocence'], ['hyacinth', 'playfulness'], ['lavender', 'devotion'], ['magnolia', 'dignity'], ['morning glory', 'unrequited love'], ['periwinkle', 'new friendship'], ['poppy', 'rest'], ['rose', 'love'], ['snapdragon', 'grace'], ['sunflower', 'longevity'], ['wisteria', 'good luck']]\n"
   ]
  },
  {
   "cell_type": "code",
   "execution_count": 1,
   "id": "63e08779",
   "metadata": {},
   "outputs": [],
   "source": [
    "class Node:\n",
    "  def __init__(self, value):\n",
    "    self.value = value\n",
    "    self.next_node = None\n",
    "    \n",
    "  def get_value(self):\n",
    "    return self.value\n",
    "  \n",
    "  def get_next_node(self):\n",
    "    return self.next_node\n",
    "  \n",
    "  def set_next_node(self, next_node):\n",
    "    self.next_node = next_node\n",
    "\n",
    "class LinkedList:\n",
    "  def __init__(self, head_node=None):\n",
    "    self.head_node = head_node\n",
    "  \n",
    "  def insert(self, new_node):\n",
    "    current_node = self.head_node\n",
    "\n",
    "    if not current_node:\n",
    "      self.head_node = new_node\n",
    "\n",
    "    while(current_node):\n",
    "      next_node = current_node.get_next_node()\n",
    "      if not next_node:\n",
    "        current_node.set_next_node(new_node)\n",
    "      current_node = next_node\n",
    "\n",
    "  def __iter__(self):\n",
    "    current_node = self.head_node\n",
    "    while(current_node):\n",
    "      yield current_node.get_value()\n",
    "      current_node = current_node.get_next_node()\n"
   ]
  },
  {
   "cell_type": "code",
   "execution_count": 4,
   "id": "9aa67864",
   "metadata": {},
   "outputs": [],
   "source": [
    "class HashMap:\n",
    "    def __init__(self, size):\n",
    "        self.array_size = size\n",
    "        self.array = [LinkedList() for _ in range(self.array_size)]\n",
    "\n",
    "    def hash(self, key):\n",
    "        encode = key.encode()\n",
    "        return sum(encode)\n",
    "    \n",
    "    def compressor(self, hash_code):\n",
    "        return hash_code % self.array_size\n",
    "    \n",
    "    def get_index(self, key):\n",
    "        return self.compressor(self.hash(key))\n",
    "    \n",
    "    def assign(self, key, value):\n",
    "        array_index = self.get_index(key)\n",
    "        payload = Node([key, value])\n",
    "        list_at_array = self.array[array_index]\n",
    "        for item in list_at_array:\n",
    "            if item[0] == key:\n",
    "                item[1] = value\n",
    "                return\n",
    "        list_at_array.insert(payload)\n",
    "            \n",
    "\n",
    "    def retrieve(self, key):\n",
    "        array_index = self.get_index(key)\n",
    "        list_at_index = self.array[array_index]\n",
    "        for item in list_at_index:\n",
    "            if item[0] == key:\n",
    "                return item[1]\n",
    "        return None\n",
    "\n"
   ]
  },
  {
   "cell_type": "code",
   "execution_count": 7,
   "id": "d4abb308",
   "metadata": {},
   "outputs": [
    {
     "data": {
      "text/plain": [
       "'innocence'"
      ]
     },
     "execution_count": 7,
     "metadata": {},
     "output_type": "execute_result"
    }
   ],
   "source": [
    "blossom = HashMap(len(flower_definitions))\n",
    "for fd in flower_definitions:\n",
    "    blossom.assign(*fd)\n",
    "blossom.retrieve('daisy')"
   ]
  },
  {
   "cell_type": "code",
   "execution_count": 11,
   "id": "5c64cf37",
   "metadata": {},
   "outputs": [
    {
     "name": "stdout",
     "output_type": "stream",
     "text": [
      "1212\n"
     ]
    }
   ],
   "source": [
    "def hash(key):\n",
    "        encode = key.encode()\n",
    "        return sum(encode)\n",
    "print(hash('Hello its m33e'))"
   ]
  }
 ],
 "metadata": {
  "kernelspec": {
   "display_name": "Python 3",
   "language": "python",
   "name": "python3"
  },
  "language_info": {
   "codemirror_mode": {
    "name": "ipython",
    "version": 3
   },
   "file_extension": ".py",
   "mimetype": "text/x-python",
   "name": "python",
   "nbconvert_exporter": "python",
   "pygments_lexer": "ipython3",
   "version": "3.11.3"
  }
 },
 "nbformat": 4,
 "nbformat_minor": 5
}
