{
 "cells": [
  {
   "cell_type": "code",
   "execution_count": 89,
   "metadata": {},
   "outputs": [],
   "source": [
    "import logging\n",
    "\n",
    "logging.basicConfig(level = logging.CRITICAL, \n",
    "                    format = \"%(asctime)s %(levelname)s %(message)s\", \n",
    "                    )\n",
    "class Node:\n",
    "    def __init__(self, value, next_node=None):\n",
    "        self.value = value\n",
    "        self.next_node = next_node\n",
    "\n",
    "    def set_next_node(self, next_node):\n",
    "        self.next_node = next_node\n",
    "\n",
    "    def get_next_node(self):\n",
    "        return self.next_node\n",
    "\n",
    "    def get_value(self):\n",
    "        return self.value\n",
    "\n",
    "\n",
    "# bounded queue\n",
    "class Queue:\n",
    "    def __init__(self, head: Node = None, tail: Node = None, max_size: int = None):\n",
    "        self.head = head\n",
    "        self.tail = tail\n",
    "        self.max_size = max_size\n",
    "        self.size = 0\n",
    "\n",
    "    def peek(self):\n",
    "        if self.is_empty():\n",
    "            print(\"Nothing to see here!\")\n",
    "        else:\n",
    "            return self.head.get_value()\n",
    "\n",
    "    def get_size(self):\n",
    "        return self.size\n",
    "\n",
    "    def has_space(self):\n",
    "        return self.get_size() < self.max_size if self.max_size else True\n",
    "\n",
    "    def is_empty(self):\n",
    "        return self.get_size() == 0\n",
    "\n",
    "    def enqueue(self, value):\n",
    "        if self.has_space():\n",
    "            item_to_add = Node(value)\n",
    "            print(\"Adding \" + str(item_to_add.get_value()) + \" to the queue!\")\n",
    "            if self.is_empty():\n",
    "                self.head = self.tail = item_to_add\n",
    "            else:\n",
    "                self.tail.set_next_node(item_to_add)\n",
    "                self.tail = item_to_add\n",
    "            self.size += 1\n",
    "        else:\n",
    "            print('Sorry, no more room!')\n",
    "\n",
    "    def dequeue(self):\n",
    "        if not self.is_empty():\n",
    "            item_to_remove = self.head\n",
    "            print('Removing '+str(item_to_remove.get_value())+' from the queue!')\n",
    "            if self.size == 1:\n",
    "                self.head=None\n",
    "                self.tail=None\n",
    "            else:\n",
    "                self.head = item_to_remove.get_next_node()\n",
    "            self.size -= 1\n",
    "            return item_to_remove.get_value()\n",
    "        else:\n",
    "            print('This queue is totally empty!')\n",
    "\n",
    "\n",
    "class Stack:\n",
    "    def __init__(self, limit:int=1000):\n",
    "        self.top_item = None\n",
    "        self.limit = limit\n",
    "        self.size = 0\n",
    "\n",
    "    def peek(self):\n",
    "        if not self.is_empty():\n",
    "            return self.top_item.get_value()\n",
    "        else:\n",
    "            logging.info('Empty')\n",
    "    \n",
    "    def push(self, value):\n",
    "        if self.has_space():\n",
    "            item = value if value is Node else Node(value)\n",
    "            item.set_next_node(self.top_item)\n",
    "            self.top_item = item\n",
    "            self.size += 1\n",
    "        else:\n",
    "            logging.info('All out of space!')\n",
    "\n",
    "\n",
    "    def pop(self):\n",
    "        if not self.is_empty():\n",
    "            item_to_remove = self.top_item\n",
    "            self.top_item = item_to_remove.get_next_node()\n",
    "            self.size -= 1\n",
    "            return item_to_remove.get_value()\n",
    "        else:\n",
    "            logging.info('Empty')\n",
    "\n",
    "    def has_space(self):\n",
    "        return self.limit > self.size\n",
    "    \n",
    "    def is_empty(self):\n",
    "        return self.size == 0\n"
   ]
  },
  {
   "attachments": {},
   "cell_type": "markdown",
   "metadata": {},
   "source": [
    "<h2>Towers of Hanoi</h2>\n",
    "Three stacks and many disks"
   ]
  },
  {
   "cell_type": "code",
   "execution_count": 90,
   "metadata": {},
   "outputs": [],
   "source": [
    "def move_disk(stack1: Stack, stack2: Stack) -> bool:\n",
    "    if stack1.is_empty(): return False\n",
    "    stack1_top = stack1.peek()\n",
    "    stack2_top = stack2.peek()\n",
    "    if stack2_top is int and stack2_top <= stack1_top:\n",
    "        return False\n",
    "    stack2.push(stack1.pop())\n",
    "    return True\n",
    "            \n",
    "            \n",
    "def initialize_disks(n:int=100):\n",
    "    stacks = [Stack(n) for _ in range(3)]\n",
    "    for i in range(n):\n",
    "        stacks[0].push(n-i)\n",
    "    return stacks\n",
    "        \n",
    "def end_cond(stack:Stack): #shouldn't be used on the first stack\n",
    "    return not stack.has_space()"
   ]
  },
  {
   "cell_type": "code",
   "execution_count": 91,
   "metadata": {},
   "outputs": [
    {
     "name": "stderr",
     "output_type": "stream",
     "text": [
      "2023-06-09 20:02:20,052 INFO Empty\n",
      "2023-06-09 20:02:20,053 INFO Empty\n"
     ]
    },
    {
     "name": "stdout",
     "output_type": "stream",
     "text": [
      "[1, None, None]\n"
     ]
    },
    {
     "name": "stderr",
     "output_type": "stream",
     "text": [
      "2023-06-09 20:02:22,463 INFO Empty\n",
      "2023-06-09 20:02:22,463 INFO Empty\n"
     ]
    },
    {
     "name": "stdout",
     "output_type": "stream",
     "text": [
      "invalid literal for int() with base 10: ''\n",
      "[1, None, None]\n"
     ]
    },
    {
     "name": "stderr",
     "output_type": "stream",
     "text": [
      "2023-06-09 20:02:29,779 INFO Empty\n",
      "2023-06-09 20:02:29,780 INFO Empty\n"
     ]
    },
    {
     "name": "stdout",
     "output_type": "stream",
     "text": [
      "[1, None, None]\n"
     ]
    },
    {
     "name": "stderr",
     "output_type": "stream",
     "text": [
      "2023-06-09 20:02:33,075 INFO Empty\n",
      "2023-06-09 20:02:33,076 INFO Empty\n"
     ]
    },
    {
     "name": "stdout",
     "output_type": "stream",
     "text": [
      "[2, 1, None]\n"
     ]
    },
    {
     "name": "stderr",
     "output_type": "stream",
     "text": [
      "2023-06-09 20:02:39,651 INFO Empty\n"
     ]
    },
    {
     "name": "stdout",
     "output_type": "stream",
     "text": [
      "[3, 1, 2]\n"
     ]
    },
    {
     "name": "stderr",
     "output_type": "stream",
     "text": [
      "2023-06-09 20:02:47,636 INFO Empty\n"
     ]
    },
    {
     "name": "stdout",
     "output_type": "stream",
     "text": [
      "[3, None, 1]\n"
     ]
    },
    {
     "name": "stderr",
     "output_type": "stream",
     "text": [
      "2023-06-09 20:02:53,372 INFO Empty\n"
     ]
    },
    {
     "name": "stdout",
     "output_type": "stream",
     "text": [
      "[3, None, 1]\n"
     ]
    },
    {
     "name": "stderr",
     "output_type": "stream",
     "text": [
      "2023-06-09 20:02:56,466 INFO Empty\n",
      "2023-06-09 20:02:56,467 INFO Empty\n"
     ]
    },
    {
     "name": "stdout",
     "output_type": "stream",
     "text": [
      "[None, 3, 1]\n"
     ]
    },
    {
     "name": "stderr",
     "output_type": "stream",
     "text": [
      "2023-06-09 20:03:03,970 INFO Empty\n"
     ]
    },
    {
     "name": "stdout",
     "output_type": "stream",
     "text": [
      "list index out of range\n",
      "[None, 3, 1]\n"
     ]
    },
    {
     "name": "stderr",
     "output_type": "stream",
     "text": [
      "2023-06-09 20:03:05,017 INFO Empty\n"
     ]
    },
    {
     "name": "stdout",
     "output_type": "stream",
     "text": [
      "[None, 1, 2]\n"
     ]
    },
    {
     "name": "stderr",
     "output_type": "stream",
     "text": [
      "2023-06-09 20:03:11,412 INFO Empty\n"
     ]
    },
    {
     "name": "stdout",
     "output_type": "stream",
     "text": [
      "[1, 3, 2]\n"
     ]
    },
    {
     "name": "stderr",
     "output_type": "stream",
     "text": [
      "2023-06-09 20:03:17,875 INFO Empty\n"
     ]
    },
    {
     "name": "stdout",
     "output_type": "stream",
     "text": [
      "[1, 2, None]\n"
     ]
    },
    {
     "name": "stderr",
     "output_type": "stream",
     "text": [
      "2023-06-09 20:03:26,747 INFO Empty\n",
      "2023-06-09 20:03:26,748 INFO Empty\n"
     ]
    },
    {
     "name": "stdout",
     "output_type": "stream",
     "text": [
      "[None, 2, 1]\n"
     ]
    },
    {
     "name": "stderr",
     "output_type": "stream",
     "text": [
      "2023-06-09 20:03:30,298 INFO Empty\n"
     ]
    },
    {
     "name": "stdout",
     "output_type": "stream",
     "text": [
      "[2, 3, 1]\n"
     ]
    },
    {
     "name": "stderr",
     "output_type": "stream",
     "text": [
      "2023-06-09 20:03:37,387 INFO Empty\n"
     ]
    },
    {
     "name": "stdout",
     "output_type": "stream",
     "text": [
      "[1, 3, None]\n"
     ]
    },
    {
     "name": "stderr",
     "output_type": "stream",
     "text": [
      "2023-06-09 20:03:39,507 INFO Empty\n",
      "2023-06-09 20:03:39,507 INFO Empty\n"
     ]
    },
    {
     "name": "stdout",
     "output_type": "stream",
     "text": [
      "[1, None, 3]\n"
     ]
    },
    {
     "name": "stderr",
     "output_type": "stream",
     "text": [
      "2023-06-09 20:03:44,538 INFO Empty\n"
     ]
    },
    {
     "name": "stdout",
     "output_type": "stream",
     "text": [
      "[2, 1, 3]\n"
     ]
    },
    {
     "name": "stderr",
     "output_type": "stream",
     "text": [
      "2023-06-09 20:03:47,795 INFO Empty\n"
     ]
    },
    {
     "name": "stdout",
     "output_type": "stream",
     "text": [
      "[None, 1, 2]\n",
      "Good Job\n"
     ]
    }
   ],
   "source": [
    "#my_version: does work haha\n",
    "\n",
    "stacks = initialize_disks(3)\n",
    "while True:\n",
    "    try:\n",
    "        print([s.peek() for s in stacks])\n",
    "        from_ = int(input('from disk'))\n",
    "        to_ = int(input('to disk'))\n",
    "        move_disk(stacks[from_], stacks[to_])\n",
    "        if end_cond(stacks[-1]):\n",
    "            print('Good Job')\n",
    "            break\n",
    "    except ValueError as e:\n",
    "        print(e)\n",
    "        continue\n",
    "    except IndexError as e:\n",
    "        print(e)\n",
    "        continue\n"
   ]
  },
  {
   "cell_type": "code",
   "execution_count": 96,
   "metadata": {},
   "outputs": [
    {
     "data": {
      "text/plain": [
       "2"
      ]
     },
     "execution_count": 96,
     "metadata": {},
     "output_type": "execute_result"
    }
   ],
   "source": [
    "num_disk = (lambda x: int(x)) ( input('\\nHow many disks do you want to play with?\\n'))\n",
    "\n"
   ]
  }
 ],
 "metadata": {
  "kernelspec": {
   "display_name": "Python 3",
   "language": "python",
   "name": "python3"
  },
  "language_info": {
   "codemirror_mode": {
    "name": "ipython",
    "version": 3
   },
   "file_extension": ".py",
   "mimetype": "text/x-python",
   "name": "python",
   "nbconvert_exporter": "python",
   "pygments_lexer": "ipython3",
   "version": "3.11.3"
  },
  "orig_nbformat": 4
 },
 "nbformat": 4,
 "nbformat_minor": 2
}
