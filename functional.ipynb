{
 "cells": [
  {
   "cell_type": "markdown",
   "id": "70eebbe5-5448-4213-8e05-a7c8bc4d72f1",
   "metadata": {},
   "source": [
    "<h2>Functional Programming</h2>"
   ]
  },
  {
   "cell_type": "code",
   "execution_count": 4,
   "id": "6b2c0d25-5bab-4033-aa77-df0e0e4d9eba",
   "metadata": {
    "tags": []
   },
   "outputs": [],
   "source": [
    "#tuples\n",
    "#immutable data types\n",
    "from collections import namedtuple\n",
    "\n",
    "student = namedtuple('student',['name','age','gpa'])\n",
    "doran = student('Doran',121,9.8)"
   ]
  },
  {
   "cell_type": "markdown",
   "id": "c51499a5-e3c1-436b-81bd-16b3dc453cb0",
   "metadata": {},
   "source": [
    "<h4>Reduce, Map, Filter</h4>"
   ]
  },
  {
   "cell_type": "code",
   "execution_count": 5,
   "id": "df56b416-8bb9-473e-8ee8-2860231c7b62",
   "metadata": {
    "tags": []
   },
   "outputs": [
    {
     "name": "stdout",
     "output_type": "stream",
     "text": [
      "(1, 2, 3, 4, 5, 6, 7, 8, 9, 10, 11, 12, 13, 14, 15, 16, 17, 18, 19, 20, 21, 22, 23, 24, 25, 26, 27, 28, 29, 31, 32, 33, 34, 35, 36, 37, 38, 39)\n",
      "(1.0, 1.4142135623730951, 1.7320508075688772, 2.0, 2.23606797749979, 2.449489742783178, 2.6457513110645907, 2.8284271247461903, 3.0, 3.1622776601683795, 3.3166247903554, 3.4641016151377544, 3.605551275463989, 3.7416573867739413, 3.872983346207417, 4.0, 4.123105625617661, 4.242640687119285, 4.358898943540674, 4.47213595499958, 4.58257569495584, 4.69041575982343, 4.795831523312719, 4.898979485566356, 5.0, 5.0990195135927845, 5.196152422706632, 5.291502622129181, 5.385164807134504, 5.477225575051661, 5.5677643628300215, 5.656854249492381, 5.744562646538029, 5.830951894845301, 5.916079783099616, 6.0, 6.082762530298219, 6.164414002968976, 6.244997998398398)\n",
      "120\n"
     ]
    }
   ],
   "source": [
    "#map(), reduce(), filter()\n",
    "import numpy as np\n",
    "xs = tuple(np.arange(1,40))\n",
    "filtered_xs = filter(lambda x:x%3!=0 or x%10!=0, xs)\n",
    "print(tuple(filtered_xs))\n",
    "mapped_xs = map(lambda x: x**.5, xs)\n",
    "print(tuple(mapped_xs))\n",
    "\n",
    "from functools import reduce\n",
    "reduced_xs = reduce(lambda x,y: x*y , [1,2,3,4,5]) #same as factorial\n",
    "print(reduced_xs)"
   ]
  },
  {
   "cell_type": "markdown",
   "id": "85cb680d-8352-47f1-8bbc-1caa82279d4f",
   "metadata": {},
   "source": [
    "<p>Chaining Filter and Map</p>"
   ]
  },
  {
   "cell_type": "code",
   "execution_count": 6,
   "id": "3204d967-5988-4b09-971f-9aac5a1b3f66",
   "metadata": {
    "tags": []
   },
   "outputs": [
    {
     "name": "stdout",
     "output_type": "stream",
     "text": [
      "(24, 32, 26, 38, 42, 30, 44, 40, 22)\n"
     ]
    }
   ],
   "source": [
    "nums = (2, 12, 5, 8, 9, 3, 16, 7, 13, 19, 21, 1, 15, 4, 22, 20, 11)\n",
    "greater_than_10_doubled = map(lambda x: x*2, filter(lambda x: x>10 , nums))\n",
    "print(tuple(greater_than_10_doubled))"
   ]
  },
  {
   "attachments": {},
   "cell_type": "markdown",
   "id": "a5b5e3d5",
   "metadata": {},
   "source": [
    "Chaining All 3 Higher-Order Functions\n",
    "\n",
    "filter-map-reduce!"
   ]
  },
  {
   "cell_type": "code",
   "execution_count": 9,
   "id": "d9ae3f57",
   "metadata": {},
   "outputs": [
    {
     "name": "stdout",
     "output_type": "stream",
     "text": [
      "460.0\n",
      "72648576\n"
     ]
    }
   ],
   "source": [
    "from functools import reduce\n",
    "\n",
    "costs = {\"shirt\": (4, 13.00), \"shoes\":(2, 80.00), \"pants\":(3, 100.00), \"socks\":(5, 5.00), \"ties\":(3, 14.00), \"watch\":(1, 145.00)}\n",
    "\n",
    "nums = (24, 6, 7, 16, 8, 2, 3, 11, 21, 20, 22, 23, 19, 12, 1, 4, 17, 9, 25, 15)\n",
    "\n",
    "\n",
    "total = reduce(lambda x, y: x + y, \n",
    "               filter(lambda x: x>150, \n",
    "                      map(lambda item: costs[item][0] * costs[item][1], costs)))\n",
    "print(total)\n",
    "\n",
    "product = reduce(lambda x, y : x * y,\n",
    "                 map(lambda x: x+5, \n",
    "                     filter(lambda x: x<10, nums))\n",
    "                 )\n",
    "\n",
    "print(product)"
   ]
  },
  {
   "attachments": {},
   "cell_type": "markdown",
   "id": "9965e13f",
   "metadata": {},
   "source": [
    "<h3>Processing JSON Data</h3>"
   ]
  },
  {
   "cell_type": "code",
   "execution_count": 26,
   "id": "c4d89a5f",
   "metadata": {},
   "outputs": [
    {
     "name": "stdout",
     "output_type": "stream",
     "text": [
      "(city(name='Beirut', country='Lebanon', coordinates=[33.8938, 35.5018], continent='Asia'), city(name='Dubai', country='United Arab Emirates', coordinates=[25.2048, 55.2708], continent='Asia'), city(name='Mumbai', country='India', coordinates=[19.076, 72.8777], continent='Asia'), city(name='Shanghai', country='China', coordinates=[31.2304, 121.4737], continent='Asia'), city(name='Osaka', country='Japan', coordinates=[34.6937, 135.5023], continent='Asia'))\n"
     ]
    }
   ],
   "source": [
    "import json\n",
    "from collections import namedtuple\n",
    "city = namedtuple(\"city\", [\"name\", \"country\", \"coordinates\", \"continent\"])\n",
    "with open('city.json','r') as jsonfile:\n",
    "    data = json.load(jsonfile)\n",
    "    cities = map(lambda x: city(x[\"name\"], x[\"country\"], x[\"coordinates\"], x[\"continent\"]), data[\"city\"])\n",
    "    asia = tuple(filter(lambda city: city.continent == \"Asia\", cities))\n",
    "    print(asia)"
   ]
  },
  {
   "cell_type": "code",
   "execution_count": 31,
   "id": "2dd637ca",
   "metadata": {},
   "outputs": [
    {
     "name": "stdout",
     "output_type": "stream",
     "text": [
      "14\n"
     ]
    }
   ],
   "source": [
    "from functools import reduce\n",
    "\n",
    "def count(predicate, itr):\n",
    "  f = filter(predicate, itr)\n",
    "  return reduce(lambda x,y: x+1, f,0)\n",
    "\n",
    "predicate = lambda x: x % 2 == 0\n",
    "itr = tuple(range(1, 30))\n",
    "\n",
    "print(count(predicate, itr))"
   ]
  },
  {
   "cell_type": "code",
   "execution_count": 41,
   "id": "5fd3ac8b",
   "metadata": {},
   "outputs": [
    {
     "name": "stdout",
     "output_type": "stream",
     "text": [
      "3.0\n"
     ]
    }
   ],
   "source": [
    "def average(itr):\n",
    "  iterable = iter(itr) \n",
    "  def avg_helper(curr_count, itr, curr_sum):\n",
    "    next_num = next(itr,'null')     \n",
    "    if next_num == 'null': return curr_sum/curr_count\n",
    "    return avg_helper(curr_count+1, itr, curr_sum+ next_num)\n",
    "  return avg_helper(0, iterable, 0)\n",
    "  \n",
    "print(average([1,2,3,4,5]))"
   ]
  },
  {
   "cell_type": "code",
   "execution_count": null,
   "id": "6d1ff439",
   "metadata": {},
   "outputs": [],
   "source": [
    "from collections import namedtuple"
   ]
  }
 ],
 "metadata": {
  "kernelspec": {
   "display_name": "Python 3 (ipykernel)",
   "language": "python",
   "name": "python3"
  },
  "language_info": {
   "codemirror_mode": {
    "name": "ipython",
    "version": 3
   },
   "file_extension": ".py",
   "mimetype": "text/x-python",
   "name": "python",
   "nbconvert_exporter": "python",
   "pygments_lexer": "ipython3",
   "version": "3.11.3"
  }
 },
 "nbformat": 4,
 "nbformat_minor": 5
}
