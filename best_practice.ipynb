{
 "cells": [
  {
   "attachments": {},
   "cell_type": "markdown",
   "metadata": {},
   "source": [
    "<h3>Style Guide</h3>\n",
    "Style - PEP8\n",
    "\n",
    "<h4>Linters</h4>\n",
    "\n"
   ]
  },
  {
   "cell_type": "code",
   "execution_count": 2,
   "metadata": {},
   "outputs": [
    {
     "data": {
      "text/plain": [
       "'d:\\\\practice\\\\jupyterlab'"
      ]
     },
     "execution_count": 2,
     "metadata": {},
     "output_type": "execute_result"
    }
   ],
   "source": [
    "import os\n",
    "os.getcwd()"
   ]
  },
  {
   "attachments": {},
   "cell_type": "markdown",
   "metadata": {},
   "source": [
    "<h2>Never Do this ~ Antipattern</h2>\n",
    "\n",
    "catching exception hides all errors"
   ]
  },
  {
   "cell_type": "code",
   "execution_count": 5,
   "metadata": {},
   "outputs": [],
   "source": [
    "def do_something():\n",
    "    print(\"I did something!\")"
   ]
  },
  {
   "cell_type": "code",
   "execution_count": 6,
   "metadata": {},
   "outputs": [
    {
     "name": "stdout",
     "output_type": "stream",
     "text": [
      "I did something!\n"
     ]
    }
   ],
   "source": [
    "try:\n",
    "    do_something()\n",
    "except Exception as e:\n",
    "    pass"
   ]
  },
  {
   "attachments": {},
   "cell_type": "markdown",
   "metadata": {},
   "source": [
    "Solutions"
   ]
  },
  {
   "cell_type": "code",
   "execution_count": 7,
   "metadata": {},
   "outputs": [
    {
     "name": "stdout",
     "output_type": "stream",
     "text": [
      "I did something!\n"
     ]
    }
   ],
   "source": [
    "try:\n",
    "    do_something()\n",
    "#catch specific exceptions\n",
    "except ValueError:\n",
    "    pass"
   ]
  },
  {
   "cell_type": "code",
   "execution_count": 9,
   "metadata": {},
   "outputs": [
    {
     "name": "stdout",
     "output_type": "stream",
     "text": [
      "I did something!\n"
     ]
    }
   ],
   "source": [
    "import logging\n",
    "try:\n",
    "    do_something()\n",
    "except Exception as e:\n",
    "    logging.ERROR(\"Caught exception\")\n",
    "    logging.exception(e)\n"
   ]
  },
  {
   "cell_type": "code",
   "execution_count": 13,
   "metadata": {},
   "outputs": [],
   "source": [
    "import traceback\n",
    "def log_traceback(e:Exception):\n",
    "    tb_lines = traceback.format_exception(e.__class__, e.__traceback__)\n",
    "    return ''.join(tb_lines)"
   ]
  }
 ],
 "metadata": {
  "kernelspec": {
   "display_name": "Python 3 (ipykernel)",
   "language": "python",
   "name": "python3"
  },
  "orig_nbformat": 4
 },
 "nbformat": 4,
 "nbformat_minor": 2
}
