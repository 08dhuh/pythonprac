{
 "cells": [
  {
   "cell_type": "code",
   "execution_count": 15,
   "metadata": {},
   "outputs": [],
   "source": [
    "class BinarySearchTree:\n",
    "    def __init__(self, value, depth=1):\n",
    "        self.value = value\n",
    "        self.depth = depth\n",
    "        self.left = None\n",
    "        self.right = None\n",
    "\n",
    "    # Define .insert() below:\n",
    "    def insert(self, value):\n",
    "        if value < self.value:\n",
    "            if self.left is None:\n",
    "                self.left = BinarySearchTree(value, self.depth + 1)\n",
    "            else:\n",
    "                self.left.insert(value)\n",
    "        else:\n",
    "            if self.right is None:\n",
    "                self.right = BinarySearchTree(value, self.depth + 1)\n",
    "            else:\n",
    "                self.right.insert(value)\n",
    "\n",
    "    def get_node_by_value(self, value):\n",
    "        if self.value == value:\n",
    "            return self\n",
    "        if self.value> value and self.left is not None:\n",
    "            return self.left.get_node_by_value(value)\n",
    "        if self.value < value and self.right is not None:\n",
    "            return self.right.get_node_by_value(value)\n",
    "        return None \n",
    "\n",
    "    def depth_first_traversal(self):\n",
    "        if self.left:\n",
    "            self.left.depth_first_traversal()\n",
    "        print(f'Depth={self.depth}, Value={self.value}')\n",
    "        if self.right:\n",
    "            self.right.depth_first_traversal()\n"
   ]
  },
  {
   "cell_type": "code",
   "execution_count": 16,
   "metadata": {},
   "outputs": [
    {
     "name": "stdout",
     "output_type": "stream",
     "text": [
      "75\n",
      "None\n"
     ]
    }
   ],
   "source": [
    "root = BinarySearchTree(100)\n",
    "\n",
    "root.insert(50)\n",
    "root.insert(125)\n",
    "root.insert(75)\n",
    "root.insert(25)\n",
    "\n",
    "# Get nodes by value below:\n",
    "print(root.get_node_by_value(75).value)\n",
    "print(root.get_node_by_value(55))"
   ]
  }
 ],
 "metadata": {
  "kernelspec": {
   "display_name": "Python 3 (ipykernel)",
   "language": "python",
   "name": "python3"
  },
  "language_info": {
   "codemirror_mode": {
    "name": "ipython",
    "version": 3
   },
   "file_extension": ".py",
   "mimetype": "text/x-python",
   "name": "python",
   "nbconvert_exporter": "python",
   "pygments_lexer": "ipython3",
   "version": "3.11.4"
  },
  "orig_nbformat": 4
 },
 "nbformat": 4,
 "nbformat_minor": 2
}
