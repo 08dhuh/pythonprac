{
 "cells": [
  {
   "attachments": {},
   "cell_type": "markdown",
   "metadata": {},
   "source": [
    "<h2>Implement Linear Search</h2>"
   ]
  },
  {
   "cell_type": "code",
   "execution_count": 2,
   "metadata": {},
   "outputs": [],
   "source": [
    "def linear_search(search_list, target_value):\n",
    "    matches = []\n",
    "    for i, value in enumerate(search_list):\n",
    "        print(value)\n",
    "        if value == target_value:\n",
    "            matches.append(i)\n",
    "    if matches: return matches\n",
    "    raise ValueError(f\"{target_value} not in the list\")"
   ]
  },
  {
   "attachments": {},
   "cell_type": "markdown",
   "metadata": {},
   "source": [
    "<h2>Binary Search</h2>\n",
    "Using recursive approach"
   ]
  },
  {
   "cell_type": "code",
   "execution_count": 11,
   "metadata": {},
   "outputs": [
    {
     "data": {
      "text/plain": [
       "0"
      ]
     },
     "execution_count": 11,
     "metadata": {},
     "output_type": "execute_result"
    }
   ],
   "source": [
    "def binary_search(sorted_list:list, target):\n",
    "    if not sorted_list:\n",
    "        return \"value not found\"\n",
    "    mid_idx = int(len(sorted_list)/2)\n",
    "    mid_val = sorted_list[mid_idx]\n",
    "    if mid_val == target:\n",
    "        return mid_idx\n",
    "    if mid_val > target:\n",
    "        left_half = sorted_list[:mid_idx]\n",
    "        return binary_search(left_half, target)\n",
    "    elif mid_val < target:\n",
    "        right_half = sorted_list[mid_idx+1:]\n",
    "        result = binary_search(right_half, target)\n",
    "        if result == \"value not found\":\n",
    "            return result\n",
    "        return result + mid_idx + 1\n",
    "\n",
    "binary_search(list(range(12)),0)"
   ]
  },
  {
   "cell_type": "code",
   "execution_count": 12,
   "metadata": {},
   "outputs": [],
   "source": [
    "#binary search using pointers\n",
    "def binary_search(sorted_list:list, target, left_index=None, right_index=None):\n",
    "    if left_index is None or right_index is None:\n",
    "        left_index = 0\n",
    "        right_index = len(sorted_list) - 1\n",
    "    if left_index >= right_index:\n",
    "        return \"value not found\"\n",
    "    mid_index = (left_index + right_index) // 2\n",
    "    mid_val = sorted_list[mid_index]\n",
    "    if mid_val == target:\n",
    "        return mid_index\n",
    "    elif mid_val < target:\n",
    "        return binary_search(sorted_list, target, left_index, mid_index-1)\n",
    "    elif mid_val > target:\n",
    "        return binary_search(sorted_list, target, mid_index, right_index)\n",
    "    "
   ]
  }
 ],
 "metadata": {
  "kernelspec": {
   "display_name": "Python 3",
   "language": "python",
   "name": "python3"
  },
  "language_info": {
   "codemirror_mode": {
    "name": "ipython",
    "version": 3
   },
   "file_extension": ".py",
   "mimetype": "text/x-python",
   "name": "python",
   "nbconvert_exporter": "python",
   "pygments_lexer": "ipython3",
   "version": "3.11.3"
  },
  "orig_nbformat": 4
 },
 "nbformat": 4,
 "nbformat_minor": 2
}
