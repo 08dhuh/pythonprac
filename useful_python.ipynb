{
 "cells": [
  {
   "attachments": {},
   "cell_type": "markdown",
   "metadata": {},
   "source": [
    "<p>COMBINING STRINGS</p>\n",
    "“Adding” two strings produces their concatenation: 'a' + 'b' is 'ab'. Write a function called fence that takes two parameters called original and wrapper and returns a new string that has the wrapper character at the beginning and end of the original. A call to your function should look like this:"
   ]
  },
  {
   "cell_type": "code",
   "execution_count": null,
   "metadata": {},
   "outputs": [],
   "source": [
    "def fence(filling:str, wrapper:str):\n",
    "    return wrapper+filling+wrapper\n",
    "\n",
    "fence('name', '*')"
   ]
  },
  {
   "cell_type": "code",
   "execution_count": null,
   "metadata": {},
   "outputs": [],
   "source": [
    "import logging\n",
    "def prob_density(arr):\n",
    "    try:\n",
    "        sorted_arr = sorted(arr)\n",
    "        arr_sum = sum([abs(a) for a in arr])\n",
    "        return [num/arr_sum for num in sorted_arr]\n",
    "    except TypeError as e:\n",
    "        logging.error(\"Each element of arr must be numeric\")\n",
    "        logging.exception(e)\n",
    "    except ZeroDivisionError as e:\n",
    "        logging.error(\"The total sum of arr should not be zero\")\n",
    "        logging.exception(e)\n",
    "\n",
    "def rescale(arr):\n",
    "    try:\n",
    "        min_arr = min(arr)\n",
    "        max_arr = max(arr)\n",
    "        interval = max_arr - min_arr\n",
    "        return [(num-min_arr)/interval for num in arr]\n",
    "    except TypeError as e:\n",
    "        logging.error(\"Each element of arr must be numeric\")\n",
    "        logging.exception(e)\n",
    "    except ZeroDivisionError as e:\n",
    "        logging.error(\"The total sum of arr should not be zero\")\n",
    "        logging.exception(e)\n",
    "    \n"
   ]
  },
  {
   "cell_type": "code",
   "execution_count": null,
   "metadata": {},
   "outputs": [],
   "source": [
    "import numpy as np\n",
    "from random import randint as ri\n",
    "random_arr = np.arange(ri(0,10), ri(20, 50))\n",
    "my_scale = rescale(random_arr)\n",
    "np_scale = np.linspace(0, 1, len(random_arr))\n",
    "\n",
    "print(my_scale)\n",
    "print(np_scale)"
   ]
  }
 ],
 "metadata": {
  "kernelspec": {
   "display_name": "Python 3 (ipykernel)",
   "language": "python",
   "name": "python3"
  },
  "language_info": {
   "codemirror_mode": {
    "name": "ipython",
    "version": 3
   },
   "file_extension": ".py",
   "mimetype": "text/x-python",
   "name": "python",
   "nbconvert_exporter": "python",
   "pygments_lexer": "ipython3",
   "version": "3.11.4"
  },
  "orig_nbformat": 4
 },
 "nbformat": 4,
 "nbformat_minor": 2
}
