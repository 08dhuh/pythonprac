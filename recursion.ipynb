{
 "cells": [
  {
   "attachments": {},
   "cell_type": "markdown",
   "metadata": {},
   "source": [
    "<h2>Recursion</h2>\n",
    "\n",
    "<h5>Word of Caution</h5>\n",
    "In Python, for example, the default maximum recursion depth is 1,000. This means that if a recursive function exceeds 1,000 recursive calls, a RecursionError will be raised. However, this value can be modified using the sys.setrecursionlimit() function, allowing you to increase or decrease the maximum recursion depth. It's important to note that modifying the recursion limit should be done with caution, as setting it too high can lead to stack overflow errors or consume excessive memory."
   ]
  },
  {
   "cell_type": "code",
   "execution_count": 1,
   "metadata": {},
   "outputs": [],
   "source": [
    "def sum_to_one(n):\n",
    "    result =1\n",
    "    call_stack = []\n",
    "    while n > 1:\n",
    "        execution_context = { \"n_value\" : n}\n",
    "        call_stack.append(execution_context)\n",
    "        n = n - 1\n",
    "        print(call_stack)\n",
    "    while len(call_stack) > 0:\n",
    "        return_value = call_stack.pop()\n",
    "        result += return_value[\"n_value\"]\n",
    "        print(call_stack)\n",
    "    return result, call_stack"
   ]
  },
  {
   "cell_type": "code",
   "execution_count": 2,
   "metadata": {},
   "outputs": [],
   "source": [
    "def sum_to_one(n):\n",
    "    if n == 1: return n\n",
    "    return sum_to_one(n-1) + n"
   ]
  },
  {
   "cell_type": "code",
   "execution_count": 3,
   "metadata": {},
   "outputs": [],
   "source": [
    "def factorial(n):\n",
    "    if n == 0: return 1\n",
    "    if n == 1: return n\n",
    "    return factorial(n-1) * n"
   ]
  },
  {
   "cell_type": "code",
   "execution_count": 4,
   "metadata": {},
   "outputs": [
    {
     "data": {
      "text/plain": [
       "[['b', 'c'], ['b'], ['c'], []]"
      ]
     },
     "execution_count": 4,
     "metadata": {},
     "output_type": "execute_result"
    }
   ],
   "source": [
    "def power_set(set_list):\n",
    "    if len(set_list) == 0: return [set_list]\n",
    "    last_set = power_set(set_list[1:])\n",
    "    return [[set_list[0]] + item for item in last_set] + last_set\n",
    "power_set(['b','c'])"
   ]
  },
  {
   "cell_type": "code",
   "execution_count": 5,
   "metadata": {},
   "outputs": [],
   "source": [
    "def turn_flat(set_list):\n",
    "    if type(set_list) != list: return [set_list]\n",
    "    if len(set_list) == 0: return set_list\n",
    "    else:\n",
    "        return turn_flat(set_list[0]) + turn_flat(set_list[1:])\n"
   ]
  },
  {
   "cell_type": "code",
   "execution_count": 6,
   "metadata": {},
   "outputs": [
    {
     "data": {
      "text/plain": [
       "['mercury',\n",
       " 'venus',\n",
       " 'earth',\n",
       " 'mars',\n",
       " 'jupiter',\n",
       " 'saturn',\n",
       " 'uranus',\n",
       " 'neptune',\n",
       " 'pluto']"
      ]
     },
     "execution_count": 6,
     "metadata": {},
     "output_type": "execute_result"
    }
   ],
   "source": [
    "nested_planets = ['mercury', 'venus', ['earth'], 'mars', [['jupiter', 'saturn']], 'uranus', ['neptune', 'pluto']]\n",
    "turn_flat(nested_planets)"
   ]
  },
  {
   "cell_type": "code",
   "execution_count": 7,
   "metadata": {},
   "outputs": [
    {
     "data": {
      "text/plain": [
       "55"
      ]
     },
     "execution_count": 7,
     "metadata": {},
     "output_type": "execute_result"
    }
   ],
   "source": [
    "def fibonacci(n):\n",
    "    if n <= 1: return n\n",
    "    return fibonacci(n-1) + fibonacci(n-2)\n",
    "\n",
    "fibonacci(10)"
   ]
  },
  {
   "cell_type": "code",
   "execution_count": 9,
   "metadata": {},
   "outputs": [],
   "source": [
    "def build_bst(my_list):\n",
    "    if len(my_list) == 0: return \"No Child\"\n",
    "    middle_idx = int(len(my_list)/2)\n",
    "    middle_value = my_list[middle_idx]\n",
    "    print(f\"Middle value: {middle_value}\")\n",
    "    tree_node = {\"data\" : middle_value }\n",
    "    tree_node['left_child'] = build_bst(my_list[:middle_idx])\n",
    "    tree_node['right_child'] = build_bst(my_list[middle_idx+1:])\n",
    "    return tree_node"
   ]
  }
 ],
 "metadata": {
  "kernelspec": {
   "display_name": "Python 3 (ipykernel)",
   "language": "python",
   "name": "python3"
  },
  "orig_nbformat": 4
 },
 "nbformat": 4,
 "nbformat_minor": 2
}
