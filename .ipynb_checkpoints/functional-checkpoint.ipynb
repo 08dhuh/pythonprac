{
 "cells": [
  {
   "cell_type": "markdown",
   "id": "70eebbe5-5448-4213-8e05-a7c8bc4d72f1",
   "metadata": {},
   "source": [
    "<h2>Functional Programming</h2>"
   ]
  },
  {
   "cell_type": "code",
   "execution_count": null,
   "id": "6b2c0d25-5bab-4033-aa77-df0e0e4d9eba",
   "metadata": {},
   "outputs": [],
   "source": [
    "#tuples"
   ]
  },
  {
   "cell_type": "code",
   "execution_count": null,
   "id": "9ca4e0a7-a569-412c-b7ce-b65a23c001e5",
   "metadata": {},
   "outputs": [],
   "source": [
    "#lambda functions"
   ]
  },
  {
   "cell_type": "code",
   "execution_count": null,
   "id": "df56b416-8bb9-473e-8ee8-2860231c7b62",
   "metadata": {},
   "outputs": [],
   "source": [
    "#map(), reduce(), filter()"
   ]
  },
  {
   "cell_type": "code",
   "execution_count": null,
   "id": "3204d967-5988-4b09-971f-9aac5a1b3f66",
   "metadata": {},
   "outputs": [],
   "source": []
  }
 ],
 "metadata": {
  "kernelspec": {
   "display_name": "Python 3 (ipykernel)",
   "language": "python",
   "name": "python3"
  },
  "language_info": {
   "codemirror_mode": {
    "name": "ipython",
    "version": 3
   },
   "file_extension": ".py",
   "mimetype": "text/x-python",
   "name": "python",
   "nbconvert_exporter": "python",
   "pygments_lexer": "ipython3",
   "version": "3.11.3"
  }
 },
 "nbformat": 4,
 "nbformat_minor": 5
}
